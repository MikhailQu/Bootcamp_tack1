{
  "cells": [
    {
      "cell_type": "markdown",
      "source": [
        "# Задача 1"
      ],
      "metadata": {
        "id": "2Jps6HitqEjY"
      }
    },
    {
      "cell_type": "code",
      "source": [
        "from google.colab import drive\n",
        "drive.mount('/content/gdrive')"
      ],
      "metadata": {
        "colab": {
          "base_uri": "https://localhost:8080/"
        },
        "id": "9aMF92gWpu2X",
        "outputId": "931fd524-ee8a-4087-f5cc-5f40c80896b8"
      },
      "execution_count": null,
      "outputs": [
        {
          "output_type": "stream",
          "name": "stdout",
          "text": [
            "Drive already mounted at /content/gdrive; to attempt to forcibly remount, call drive.mount(\"/content/gdrive\", force_remount=True).\n"
          ]
        }
      ]
    },
    {
      "cell_type": "code",
      "source": [
        "import os\n",
        "\n",
        "os.chdir(r\"/content/gdrive/MyDrive/Samsung Kaggle/Task 1. Critical temperature of superconductors\")\n",
        "#print(os.getcwd())"
      ],
      "metadata": {
        "colab": {
          "base_uri": "https://localhost:8080/"
        },
        "id": "LeuceuQMpx9I",
        "outputId": "c787a1f0-93e8-435f-a7f1-419432ad1ce3"
      },
      "execution_count": null,
      "outputs": [
        {
          "output_type": "stream",
          "name": "stdout",
          "text": [
            "/content/gdrive/MyDrive/Samsung Kaggle/Task 1. Critical temperature of superconductors\n"
          ]
        }
      ]
    },
    {
      "cell_type": "code",
      "execution_count": null,
      "metadata": {
        "id": "RbJy-1u0fzLH"
      },
      "outputs": [],
      "source": [
        "# иморитирование всех необходимых библиотек\n",
        "import numpy as np\n",
        "import pandas as pd\n",
        "import seaborn as sns\n",
        "import matplotlib.pyplot as plt\n",
        "from sklearn.model_selection import train_test_split\n",
        "from sklearn.linear_model import LinearRegression\n",
        "from sklearn.metrics import mean_absolute_error, mean_squared_error, r2_score, make_scorer\n",
        "from sklearn.model_selection import learning_curve \n",
        "from sklearn.linear_model import ElasticNetCV\n",
        "from sklearn.model_selection import KFold\n",
        "from sklearn.model_selection import cross_val_score"
      ]
    },
    {
      "cell_type": "code",
      "execution_count": null,
      "metadata": {
        "colab": {
          "base_uri": "https://localhost:8080/"
        },
        "id": "U6qAjddIf44f",
        "outputId": "d5f6b794-c783-483e-8c16-9f1dd917d0f4"
      },
      "outputs": [
        {
          "output_type": "stream",
          "name": "stdout",
          "text": [
            "Train dataset shape: (17010, 82)\n",
            "Train_formula dataset shape: (17010, 88)\n"
          ]
        }
      ],
      "source": [
        "# Считываем тренировочные данные\n",
        "train = pd.read_csv(\"train.csv\")\n",
        "formula_train = pd.read_csv(\"formula_train.csv\")\n",
        "\n",
        "print(f\"Train dataset shape: {train.shape}\")\n",
        "print(f\"Train_formula dataset shape: {formula_train.shape}\")"
      ]
    },
    {
      "cell_type": "code",
      "execution_count": null,
      "metadata": {
        "colab": {
          "base_uri": "https://localhost:8080/"
        },
        "id": "Ux_iAnn2gBpO",
        "outputId": "f013d5f8-4b70-41a6-d61e-8548241e9af5"
      },
      "outputs": [
        {
          "output_type": "stream",
          "name": "stdout",
          "text": [
            "Test dataset shape: (4253, 81)\n",
            "Test_formula dataset shape: (4253, 87)\n"
          ]
        }
      ],
      "source": [
        "# Считываем тестовые данные\n",
        "test = pd.read_csv(\"test.csv\")\n",
        "formula_test = pd.read_csv(\"formula_test.csv\")\n",
        "\n",
        "print(f\"Test dataset shape: {test.shape}\")\n",
        "print(f\"Test_formula dataset shape: {formula_test.shape}\")"
      ]
    },
    {
      "cell_type": "code",
      "execution_count": null,
      "metadata": {
        "colab": {
          "base_uri": "https://localhost:8080/"
        },
        "id": "XYDMZJg_gLj4",
        "outputId": "7904ea25-fd4e-44ba-a1ae-9bf444da76c7"
      },
      "outputs": [
        {
          "output_type": "stream",
          "name": "stdout",
          "text": [
            "Full Train dataset shape: (17010, 169)\n"
          ]
        }
      ],
      "source": [
        "formula_train = formula_train.drop(columns=['critical_temp'])\n",
        "\n",
        "train_full = pd.concat([train, formula_train], axis=1)\n",
        "\n",
        "print(f\"Full Train dataset shape: {train_full.shape}\")"
      ]
    },
    {
      "cell_type": "code",
      "execution_count": null,
      "metadata": {
        "id": "3zqS25TkgPQg"
      },
      "outputs": [],
      "source": [
        "# Удалим из данных ненужную колонку 'material'\n",
        "train_full.drop(columns=['material'], inplace=True)"
      ]
    },
    {
      "cell_type": "code",
      "execution_count": null,
      "metadata": {
        "colab": {
          "base_uri": "https://localhost:8080/"
        },
        "id": "xbLuoZJKgZsb",
        "outputId": "40db2fb3-c53d-4686-9284-2d9c0367d596"
      },
      "outputs": [
        {
          "output_type": "stream",
          "name": "stdout",
          "text": [
            "Features shape: (17010, 167)\n",
            "Target shape: (17010,)\n"
          ]
        }
      ],
      "source": [
        "# Выделим из набора данных вектор признаков и вектор ответов\n",
        "X = train_full.drop(columns=['critical_temp'])\n",
        "y = train_full['critical_temp']\n",
        "\n",
        "print(f\"Features shape: {X.shape}\")\n",
        "print(f\"Target shape: {y.shape}\")"
      ]
    },
    {
      "cell_type": "code",
      "execution_count": null,
      "metadata": {
        "colab": {
          "base_uri": "https://localhost:8080/"
        },
        "id": "kydOvrBHgdIV",
        "outputId": "0fc6f3bd-db54-4634-93b1-427624231989"
      },
      "outputs": [
        {
          "output_type": "stream",
          "name": "stdout",
          "text": [
            "Full Test dataset shape: (4253, 168)\n"
          ]
        }
      ],
      "source": [
        "test_full = pd.concat([test, formula_test], axis=1)\n",
        "\n",
        "print(f\"Full Test dataset shape: {test_full.shape}\")"
      ]
    },
    {
      "cell_type": "code",
      "execution_count": null,
      "metadata": {
        "id": "FwT2mOZugfhK"
      },
      "outputs": [],
      "source": [
        "# Удалим из данных ненужную колонку 'material'\n",
        "test_full.drop(columns=['material'], inplace=True)"
      ]
    },
    {
      "cell_type": "code",
      "execution_count": null,
      "metadata": {
        "colab": {
          "base_uri": "https://localhost:8080/"
        },
        "id": "YSvzw3QagnmM",
        "outputId": "c60ebc96-8ad1-42f1-e291-7ed00f6b37a9"
      },
      "outputs": [
        {
          "output_type": "stream",
          "name": "stdout",
          "text": [
            "Train dataset size: (11907, 167), (11907,)\n",
            "Test dataset size: (5103, 167), (5103,)\n"
          ]
        }
      ],
      "source": [
        "X_train, X_test, y_train, y_test = train_test_split(X, y, test_size=0.3, random_state=0)\n",
        "\n",
        "print(f'Train dataset size: {X_train.shape}, {y_train.shape}')\n",
        "print(f'Test dataset size: {X_test.shape}, {y_test.shape}')"
      ]
    },
    {
      "cell_type": "code",
      "execution_count": null,
      "metadata": {
        "id": "a7pv-2nhg4_h"
      },
      "outputs": [],
      "source": [
        "model = LinearRegression()\n",
        "\n",
        "model.fit(X_train, y_train)\n",
        "y_train_pred = model.predict(X_train)\n",
        "y_test_pred = model.predict(X_test)"
      ]
    },
    {
      "cell_type": "code",
      "execution_count": null,
      "metadata": {
        "colab": {
          "base_uri": "https://localhost:8080/"
        },
        "id": "EYrvZNjbhEMQ",
        "outputId": "e1dfcdb6-96a7-4de3-f35b-547e97a86ef4"
      },
      "outputs": [
        {
          "output_type": "stream",
          "name": "stdout",
          "text": [
            "MSE train: 275.013, test: 278.712\n",
            "R^2 train: 0.768, test: 0.761\n"
          ]
        }
      ],
      "source": [
        "print('MSE train: {:.3f}, test: {:.3f}'.format(\n",
        "        mean_squared_error(y_train, y_train_pred),\n",
        "        mean_squared_error(y_test, y_test_pred)))\n",
        "print('R^2 train: {:.3f}, test: {:.3f}'.format(\n",
        "        r2_score(y_train, y_train_pred),\n",
        "        r2_score(y_test, y_test_pred)))"
      ]
    },
    {
      "cell_type": "code",
      "execution_count": null,
      "metadata": {
        "colab": {
          "base_uri": "https://localhost:8080/",
          "height": 297
        },
        "id": "5JWNvFD3hJMY",
        "outputId": "828a27c8-0366-45c5-841b-f106b607493b"
      },
      "outputs": [
        {
          "output_type": "display_data",
          "data": {
            "text/plain": [
              "<Figure size 432x288 with 1 Axes>"
            ],
            "image/png": "[encoded data removed]"
          },
          "metadata": {
            "needs_background": "light"
          }
        }
      ],
      "source": [
        "plt.scatter(y_train_pred,  y_train_pred - y_train,\n",
        "            c='blue', marker='o', label='Training data')\n",
        "plt.scatter(y_test_pred,  y_test_pred - y_test,\n",
        "            c='lightgreen', marker='s', label='Test data')\n",
        "plt.xlabel('Predicted values')\n",
        "plt.ylabel('Residuals')\n",
        "plt.legend(loc='upper left')\n",
        "plt.hlines(y=0, xmin=-10, xmax=50, lw=2, color='red')\n",
        "plt.xlim([-10, 50])\n",
        "plt.tight_layout()"
      ]
    },
    {
      "cell_type": "code",
      "execution_count": null,
      "metadata": {
        "colab": {
          "base_uri": "https://localhost:8080/",
          "height": 295
        },
        "id": "Y-YPqvrEpoNt",
        "outputId": "3d537680-ebd6-4c5d-aca6-be9f8c0d4b27"
      },
      "outputs": [
        {
          "output_type": "display_data",
          "data": {
            "text/plain": [
              "<Figure size 432x288 with 1 Axes>"
            ],
            "image/png": "[encoded data removed]"
          },
          "metadata": {
            "needs_background": "light"
          }
        }
      ],
      "source": [
        "def plot_learning_curve(estimator, title, X, y, ylim=None, cv=None,\n",
        "                        n_jobs=1, train_sizes=np.linspace(.1, 1.0, 5)):\n",
        " \n",
        "    plt.figure()\n",
        "    plt.title(title)\n",
        "    if ylim is not None:\n",
        "        plt.ylim(*ylim)\n",
        "    plt.xlabel(\"Train примеры\")\n",
        "    plt.ylabel(\"Оценка\")\n",
        "    train_sizes, train_scores, test_scores = learning_curve(estimator, X, y, cv=cv, n_jobs=n_jobs, train_sizes=train_sizes, scoring=make_scorer(mean_squared_error))\n",
        "    train_scores_mean = np.mean(train_scores, axis=1)\n",
        "    train_scores_std = np.std(train_scores, axis=1)\n",
        "    test_scores_mean = np.mean(test_scores, axis=1)\n",
        "    test_scores_std = np.std(test_scores, axis=1)\n",
        "    plt.grid()\n",
        "\n",
        "    plt.fill_between(train_sizes, train_scores_mean - train_scores_std,\n",
        "                     train_scores_mean + train_scores_std, alpha=0.1,\n",
        "                     color=\"r\")\n",
        "    plt.fill_between(train_sizes, test_scores_mean - test_scores_std,\n",
        "                     test_scores_mean + test_scores_std, alpha=0.1, color=\"g\")\n",
        "    plt.plot(train_sizes, train_scores_mean, 'o-', color=\"r\",\n",
        "             label=\"Train score\")\n",
        "    plt.plot(train_sizes, test_scores_mean, 'o-', color=\"g\",\n",
        "             label=\"C-V score\")\n",
        "\n",
        "    plt.legend(loc=\"best\")\n",
        "    return plt\n",
        "\n",
        "plot_learning_curve(model, \"Кривая обучения\", X_train, y_train, cv=5);"
      ]
    },
    {
      "cell_type": "code",
      "execution_count": null,
      "metadata": {
        "colab": {
          "base_uri": "https://localhost:8080/"
        },
        "id": "6wN7yFk2hTAP",
        "outputId": "cd726664-b7b2-45a7-f98e-8f49a36117aa"
      },
      "outputs": [
        {
          "output_type": "stream",
          "name": "stdout",
          "text": [
            "Slope: 0.82\n",
            "Intercept: -7.45\n"
          ]
        }
      ],
      "source": [
        "model = LinearRegression()\n",
        "model.fit(X, y)\n",
        "y_pred = model.predict(X)\n",
        "print('Slope: {:.2f}'.format(model.coef_[0]))\n",
        "print('Intercept: {:.2f}'.format(model.intercept_))"
      ]
    },
    {
      "cell_type": "code",
      "execution_count": null,
      "metadata": {
        "id": "a2ycb4YOiBq6"
      },
      "outputs": [],
      "source": [
        "from sklearn.preprocessing import StandardScaler\n",
        "\n",
        "sc_x = StandardScaler()\n",
        "sc_y = StandardScaler()\n",
        "X_std = sc_x.fit_transform(X)\n",
        "y_std = sc_y.fit_transform(y.values.reshape(-1, 1)).flatten()\n",
        "X_train_scaled, X_test_scaled, y_train_scaled, y_test_scaled = train_test_split(\n",
        "    X_std, y_std, test_size=0.3, random_state=0)"
      ]
    },
    {
      "cell_type": "code",
      "execution_count": null,
      "metadata": {
        "colab": {
          "base_uri": "https://localhost:8080/"
        },
        "id": "jDGdUL6fjLxm",
        "outputId": "c443cc99-6f7f-4016-f880-9f237d3b4559"
      },
      "outputs": [
        {
          "output_type": "execute_result",
          "data": {
            "text/plain": [
              "(0.9669360314556489, -0.0008092060179821469)"
            ]
          },
          "metadata": {},
          "execution_count": 33
        }
      ],
      "source": [
        "X_train_scaled.std(), X_train_scaled.mean()"
      ]
    },
    {
      "cell_type": "code",
      "execution_count": null,
      "metadata": {
        "colab": {
          "base_uri": "https://localhost:8080/"
        },
        "id": "37gT23Z1jOtK",
        "outputId": "aa0cc0b8-fa1d-42de-d1fa-9ebb9557d013"
      },
      "outputs": [
        {
          "output_type": "stream",
          "name": "stdout",
          "text": [
            "[ 0.02530025 -0.         -0.         -0.         -0.          0.\n",
            "  0.06508695  0.02886593 -0.          0.          0.          0.\n",
            "  0.          0.          0.          0.          0.          0.02661913\n",
            " -0.          0.          0.         -0.         -0.         -0.\n",
            " -0.          0.          0.          0.05492133 -0.          0.\n",
            "  0.         -0.         -0.         -0.         -0.          0.\n",
            "  0.          0.         -0.          0.         -0.         -0.\n",
            " -0.         -0.05521845 -0.00738456  0.          0.          0.\n",
            " -0.          0.          0.         -0.         -0.         -0.\n",
            " -0.          0.          0.         -0.         -0.         -0.\n",
            " -0.          0.          0.         -0.         -0.          0.\n",
            "  0.          0.          0.          0.          0.34824267 -0.\n",
            " -0.01941442 -0.         -0.          0.          0.         -0.\n",
            " -0.         -0.         -0.01027437 -0.          0.         -0.\n",
            " -0.         -0.          0.         -0.          0.          0.\n",
            "  0.         -0.          0.         -0.         -0.00290958 -0.\n",
            " -0.         -0.          0.          0.          0.080476   -0.\n",
            " -0.          0.          0.          0.         -0.         -0.\n",
            " -0.          0.         -0.          0.         -0.         -0.\n",
            " -0.         -0.          0.          0.          0.          0.\n",
            " -0.          0.         -0.          0.         -0.         -0.\n",
            " -0.         -0.         -0.         -0.         -0.         -0.\n",
            " -0.         -0.          0.          0.          0.17356818 -0.\n",
            " -0.         -0.         -0.          0.         -0.         -0.\n",
            " -0.         -0.         -0.         -0.          0.         -0.\n",
            "  0.         -0.         -0.         -0.         -0.         -0.\n",
            " -0.         -0.         -0.         -0.          0.          0.\n",
            "  0.          0.          0.          0.          0.        ]\n",
            "MSE train: 0.381, test: 0.369\n",
            "R^2 train: 0.621, test: 0.627\n"
          ]
        }
      ],
      "source": [
        "from sklearn.linear_model import Lasso\n",
        "\n",
        "lasso = Lasso(alpha=0.1)\n",
        "lasso.fit(X_train_scaled, y_train_scaled)\n",
        "y_train_pred = lasso.predict(X_train_scaled)\n",
        "y_test_pred = lasso.predict(X_test_scaled)\n",
        "print(lasso.coef_)\n",
        "\n",
        "print('MSE train: {:.3f}, test: {:.3f}'.format(\n",
        "        mean_squared_error(y_train_scaled, y_train_pred),\n",
        "        mean_squared_error(y_test_scaled, y_test_pred)))\n",
        "print('R^2 train: {:.3f}, test: {:.3f}'.format(\n",
        "        r2_score(y_train_scaled, y_train_pred),\n",
        "        r2_score(y_test_scaled, y_test_pred)))"
      ]
    },
    {
      "cell_type": "code",
      "execution_count": null,
      "metadata": {
        "colab": {
          "base_uri": "https://localhost:8080/"
        },
        "id": "h3T5_q6sjSj1",
        "outputId": "08b8e448-09f3-4228-eb2d-d5c3394a1781"
      },
      "outputs": [
        {
          "output_type": "stream",
          "name": "stdout",
          "text": [
            "[ 5.57123035e-02  8.51233529e-01 -1.25504029e+00 -4.62429842e-01\n",
            "  7.95263608e-01 -2.13910836e-01 -2.53872818e-02  3.02366198e-01\n",
            "  8.21503171e-02 -3.06776450e-01  1.11302448e-02 -4.01330783e-01\n",
            "  3.11568372e-01  2.70772472e-01 -7.39605009e-02 -1.30566567e-01\n",
            "  5.76776841e-01  3.90677943e-01  1.22559334e-01 -2.93845689e-01\n",
            " -1.04760468e-01 -2.92914388e-01  1.32383125e+00  1.41402122e-01\n",
            " -1.33666056e+00 -6.01787614e-01  2.91263465e-01  1.28487532e-01\n",
            " -6.78858721e-02 -2.57216510e-01  4.22487190e-02 -4.56531562e-01\n",
            "  4.80473400e-01  7.62325824e-02 -6.90039524e-02 -4.35466103e-02\n",
            "  2.79157643e-03 -1.33707232e-01 -4.23611836e-02  1.92018807e-01\n",
            " -5.98586374e-02 -1.74036421e-02  3.33788506e-01  8.69069523e-02\n",
            " -4.02438974e-01  1.01807681e-01 -1.53481786e-01 -5.70281921e-01\n",
            " -6.05016499e-02  7.18248502e-01 -2.83334268e-01  4.39467023e-01\n",
            " -7.69135043e-01 -2.67495445e-01  5.07422508e-01 -2.28852557e-01\n",
            "  2.26346361e-01 -8.62404647e-02  1.99748504e-01 -2.70744446e-01\n",
            "  1.86590780e-01 -3.61075839e-02  6.25260457e-01 -7.62142118e-02\n",
            " -3.73525507e-01  1.36189689e-01  1.05023480e-02 -5.47511835e-01\n",
            " -2.36741113e-01  5.71061023e-01  3.93744450e-02  2.28736475e-01\n",
            " -5.10226040e-01 -1.07477963e-01  4.00041340e-01  1.01488632e+00\n",
            " -8.49481462e-01  1.66978341e-01 -7.14525766e-02  3.75696819e-02\n",
            " -2.27202200e-01 -1.05127754e-02  0.00000000e+00  1.67248798e-02\n",
            " -7.00783277e-03 -9.29096746e-03 -2.08146418e-02 -3.11156489e-03\n",
            " -4.76709511e-02  2.70369148e-02  0.00000000e+00  2.44657651e-02\n",
            "  3.82318149e-03 -1.31774676e-02 -1.20245130e-01 -2.14136770e-02\n",
            " -4.46999160e-02 -2.71790805e-02  0.00000000e+00  4.58827621e-02\n",
            "  3.88424082e-02 -2.30421082e-03 -2.05490686e-03  2.57339204e-03\n",
            "  1.95468642e-02  1.71331002e-03  2.57045214e-02 -2.52210240e-02\n",
            " -1.17443762e-02 -4.27488947e-02  4.35497360e-04  1.34317830e-02\n",
            " -3.83847842e-02 -5.56319502e-02 -2.04780117e-02 -8.64484445e-03\n",
            "  0.00000000e+00  4.00729483e-02  1.47805417e-02 -1.34759278e-04\n",
            "  8.26546076e-04  1.45171763e-02  5.05988102e-03  2.63862470e-03\n",
            "  6.39489696e-03 -6.56977101e-03  5.02090250e-03 -5.16354653e-02\n",
            " -3.23597792e-03  1.98376277e-02 -1.73086529e-03 -1.03185865e-02\n",
            "  2.40929332e-03  1.41408153e-02  0.00000000e+00  2.12255103e-02\n",
            "  2.75616746e-01  1.20306993e-03 -5.79001161e-03 -7.65908641e-05\n",
            " -1.16757482e-02  0.00000000e+00  7.52971074e-03 -2.90360334e-03\n",
            "  1.07803833e-04 -2.28735135e-03  1.09301692e-02  4.53197673e-03\n",
            "  8.78996681e-03  1.30137232e-03  1.95527030e-02  3.70268122e-02\n",
            " -3.57953193e-03  2.46423791e-03  4.63943330e-03  3.27564255e-03\n",
            "  9.48413799e-03 -5.81804322e-04  3.95045023e-02 -1.03233862e-02\n",
            "  3.19452234e-02  4.50915410e-02  9.70869762e-03  1.26111523e-01\n",
            "  0.00000000e+00  0.00000000e+00  0.00000000e+00]\n",
            "MSE train: 0.233, test: 0.236\n",
            "R^2 train: 0.768, test: 0.761\n"
          ]
        }
      ],
      "source": [
        "from sklearn.linear_model import Ridge\n",
        "\n",
        "ridge = Ridge(alpha=0.1)\n",
        "ridge.fit(X_train_scaled, y_train_scaled)\n",
        "y_train_pred = ridge.predict(X_train_scaled)\n",
        "y_test_pred = ridge.predict(X_test_scaled)\n",
        "print(ridge.coef_)\n",
        "\n",
        "print('MSE train: {:.3f}, test: {:.3f}'.format(\n",
        "        mean_squared_error(y_train_scaled, y_train_pred),\n",
        "        mean_squared_error(y_test_scaled, y_test_pred)))\n",
        "print('R^2 train: {:.3f}, test: {:.3f}'.format(\n",
        "        r2_score(y_train_scaled, y_train_pred),\n",
        "        r2_score(y_test_scaled, y_test_pred)))"
      ]
    },
    {
      "cell_type": "code",
      "execution_count": null,
      "metadata": {
        "colab": {
          "base_uri": "https://localhost:8080/"
        },
        "id": "MzHic6w-j8Xx",
        "outputId": "dcf82d8e-304d-4aeb-ead1-d42185634ccb"
      },
      "outputs": [
        {
          "output_type": "stream",
          "name": "stdout",
          "text": [
            "[ 0.02818888 -0.         -0.         -0.         -0.          0.\n",
            "  0.0842759   0.03292459 -0.          0.          0.          0.\n",
            "  0.          0.          0.          0.          0.          0.05005328\n",
            " -0.          0.          0.         -0.          0.         -0.\n",
            " -0.          0.          0.          0.06770367 -0.          0.\n",
            "  0.         -0.         -0.         -0.03686596 -0.          0.\n",
            "  0.          0.         -0.         -0.         -0.         -0.\n",
            " -0.         -0.02538241 -0.06313052 -0.         -0.          0.\n",
            " -0.          0.          0.         -0.         -0.         -0.\n",
            " -0.          0.          0.         -0.         -0.         -0.\n",
            " -0.00739048  0.          0.04013459 -0.         -0.          0.\n",
            "  0.          0.          0.          0.          0.25143805 -0.\n",
            " -0.         -0.         -0.          0.          0.         -0.\n",
            " -0.         -0.         -0.08244078 -0.          0.          0.\n",
            " -0.         -0.          0.         -0.          0.00590959  0.\n",
            "  0.         -0.          0.         -0.         -0.06083602 -0.\n",
            " -0.         -0.          0.          0.          0.08885321 -0.\n",
            " -0.          0.          0.          0.         -0.         -0.\n",
            " -0.          0.00365943 -0.          0.         -0.         -0.\n",
            " -0.         -0.          0.          0.          0.01776307  0.\n",
            " -0.          0.         -0.          0.         -0.         -0.\n",
            " -0.         -0.         -0.         -0.         -0.         -0.\n",
            "  0.          0.          0.          0.          0.22447048 -0.\n",
            " -0.         -0.         -0.          0.         -0.         -0.\n",
            " -0.         -0.         -0.         -0.          0.         -0.\n",
            "  0.         -0.         -0.         -0.         -0.          0.\n",
            " -0.         -0.         -0.         -0.          0.0240003   0.02006542\n",
            "  0.          0.05932549  0.          0.          0.        ]\n",
            "MSE train: 0.325, test: 0.320\n",
            "R^2 train: 0.676, test: 0.677\n"
          ]
        }
      ],
      "source": [
        "from sklearn.linear_model import ElasticNet\n",
        "\n",
        "en = ElasticNet(alpha=0.1, l1_ratio=0.5)\n",
        "en.fit(X_train_scaled, y_train_scaled)\n",
        "y_train_pred = en.predict(X_train_scaled)\n",
        "y_test_pred = en.predict(X_test_scaled)\n",
        "print(en.coef_)\n",
        "\n",
        "print('MSE train: {:.3f}, test: {:.3f}'.format(\n",
        "        mean_squared_error(y_train_scaled, y_train_pred),\n",
        "        mean_squared_error(y_test_scaled, y_test_pred)))\n",
        "print('R^2 train: {:.3f}, test: {:.3f}'.format(\n",
        "        r2_score(y_train_scaled, y_train_pred),\n",
        "        r2_score(y_test_scaled, y_test_pred)))"
      ]
    },
    {
      "cell_type": "code",
      "execution_count": null,
      "metadata": {
        "colab": {
          "base_uri": "https://localhost:8080/"
        },
        "id": "0bNf81GAjsVD",
        "outputId": "ab19fdd2-3b5b-4feb-c4dc-d78cffe42df3"
      },
      "outputs": [
        {
          "output_type": "execute_result",
          "data": {
            "text/plain": [
              "array([42.11079012, 25.40662317, 68.5848528 , ...,  0.15656144,\n",
              "       18.54899465, 18.54899465])"
            ]
          },
          "metadata": {},
          "execution_count": 37
        }
      ],
      "source": [
        "y_pred_test = model.predict(test_full)\n",
        "y_pred_test"
      ]
    },
    {
      "cell_type": "code",
      "execution_count": null,
      "metadata": {
        "colab": {
          "base_uri": "https://localhost:8080/",
          "height": 424
        },
        "id": "ByKePvUtkpZb",
        "outputId": "cb425a93-1435-4405-d700-b9a7f3eb6882"
      },
      "outputs": [
        {
          "output_type": "execute_result",
          "data": {
            "text/plain": [
              "      index  critical_temp\n",
              "0         0      42.110790\n",
              "1         1      25.406623\n",
              "2         2      68.584853\n",
              "3         3      62.682028\n",
              "4         4      66.684339\n",
              "...     ...            ...\n",
              "4248   4248      15.757331\n",
              "4249   4249       2.410118\n",
              "4250   4250       0.156561\n",
              "4251   4251      18.548995\n",
              "4252   4252      18.548995\n",
              "\n",
              "[4253 rows x 2 columns]"
            ],
            "text/html": [
              "\n",
              "  <div id=\"df-0ee567a7-2e0a-4916-b31a-cc77dddd9e03\">\n",
              "    <div class=\"colab-df-container\">\n",
              "      <div>\n",
              "<style scoped>\n",
              "    .dataframe tbody tr th:only-of-type {\n",
              "        vertical-align: middle;\n",
              "    }\n",
              "\n",
              "    .dataframe tbody tr th {\n",
              "        vertical-align: top;\n",
              "    }\n",
              "\n",
              "    .dataframe thead th {\n",
              "        text-align: right;\n",
              "    }\n",
              "</style>\n",
              "<table border=\"1\" class=\"dataframe\">\n",
              "  <thead>\n",
              "    <tr style=\"text-align: right;\">\n",
              "      <th></th>\n",
              "      <th>index</th>\n",
              "      <th>critical_temp</th>\n",
              "    </tr>\n",
              "  </thead>\n",
              "  <tbody>\n",
              "    <tr>\n",
              "      <th>0</th>\n",
              "      <td>0</td>\n",
              "      <td>42.110790</td>\n",
              "    </tr>\n",
              "    <tr>\n",
              "      <th>1</th>\n",
              "      <td>1</td>\n",
              "      <td>25.406623</td>\n",
              "    </tr>\n",
              "    <tr>\n",
              "      <th>2</th>\n",
              "      <td>2</td>\n",
              "      <td>68.584853</td>\n",
              "    </tr>\n",
              "    <tr>\n",
              "      <th>3</th>\n",
              "      <td>3</td>\n",
              "      <td>62.682028</td>\n",
              "    </tr>\n",
              "    <tr>\n",
              "      <th>4</th>\n",
              "      <td>4</td>\n",
              "      <td>66.684339</td>\n",
              "    </tr>\n",
              "    <tr>\n",
              "      <th>...</th>\n",
              "      <td>...</td>\n",
              "      <td>...</td>\n",
              "    </tr>\n",
              "    <tr>\n",
              "      <th>4248</th>\n",
              "      <td>4248</td>\n",
              "      <td>15.757331</td>\n",
              "    </tr>\n",
              "    <tr>\n",
              "      <th>4249</th>\n",
              "      <td>4249</td>\n",
              "      <td>2.410118</td>\n",
              "    </tr>\n",
              "    <tr>\n",
              "      <th>4250</th>\n",
              "      <td>4250</td>\n",
              "      <td>0.156561</td>\n",
              "    </tr>\n",
              "    <tr>\n",
              "      <th>4251</th>\n",
              "      <td>4251</td>\n",
              "      <td>18.548995</td>\n",
              "    </tr>\n",
              "    <tr>\n",
              "      <th>4252</th>\n",
              "      <td>4252</td>\n",
              "      <td>18.548995</td>\n",
              "    </tr>\n",
              "  </tbody>\n",
              "</table>\n",
              "<p>4253 rows × 2 columns</p>\n",
              "</div>\n",
              "      <button class=\"colab-df-convert\" onclick=\"convertToInteractive('df-0ee567a7-2e0a-4916-b31a-cc77dddd9e03')\"\n",
              "              title=\"Convert this dataframe to an interactive table.\"\n",
              "              style=\"display:none;\">\n",
              "        \n",
              "  <svg xmlns=\"http://www.w3.org/2000/svg\" height=\"24px\"viewBox=\"0 0 24 24\"\n",
              "       width=\"24px\">\n",
              "    <path d=\"M0 0h24v24H0V0z\" fill=\"none\"/>\n",
              "    <path d=\"M18.56 5.44l.94 2.06.94-2.06 2.06-.94-2.06-.94-.94-2.06-.94 2.06-2.06.94zm-11 1L8.5 8.5l.94-2.06 2.06-.94-2.06-.94L8.5 2.5l-.94 2.06-2.06.94zm10 10l.94 2.06.94-2.06 2.06-.94-2.06-.94-.94-2.06-.94 2.06-2.06.94z\"/><path d=\"M17.41 7.96l-1.37-1.37c-.4-.4-.92-.59-1.43-.59-.52 0-1.04.2-1.43.59L10.3 9.45l-7.72 7.72c-.78.78-.78 2.05 0 2.83L4 21.41c.39.39.9.59 1.41.59.51 0 1.02-.2 1.41-.59l7.78-7.78 2.81-2.81c.8-.78.8-2.07 0-2.86zM5.41 20L4 18.59l7.72-7.72 1.47 1.35L5.41 20z\"/>\n",
              "  </svg>\n",
              "      </button>\n",
              "      \n",
              "  <style>\n",
              "    .colab-df-container {\n",
              "      display:flex;\n",
              "      flex-wrap:wrap;\n",
              "      gap: 12px;\n",
              "    }\n",
              "\n",
              "    .colab-df-convert {\n",
              "      background-color: #E8F0FE;\n",
              "      border: none;\n",
              "      border-radius: 50%;\n",
              "      cursor: pointer;\n",
              "      display: none;\n",
              "      fill: #1967D2;\n",
              "      height: 32px;\n",
              "      padding: 0 0 0 0;\n",
              "      width: 32px;\n",
              "    }\n",
              "\n",
              "    .colab-df-convert:hover {\n",
              "      background-color: #E2EBFA;\n",
              "      box-shadow: 0px 1px 2px rgba(60, 64, 67, 0.3), 0px 1px 3px 1px rgba(60, 64, 67, 0.15);\n",
              "      fill: #174EA6;\n",
              "    }\n",
              "\n",
              "    [theme=dark] .colab-df-convert {\n",
              "      background-color: #3B4455;\n",
              "      fill: #D2E3FC;\n",
              "    }\n",
              "\n",
              "    [theme=dark] .colab-df-convert:hover {\n",
              "      background-color: #434B5C;\n",
              "      box-shadow: 0px 1px 3px 1px rgba(0, 0, 0, 0.15);\n",
              "      filter: drop-shadow(0px 1px 2px rgba(0, 0, 0, 0.3));\n",
              "      fill: #FFFFFF;\n",
              "    }\n",
              "  </style>\n",
              "\n",
              "      <script>\n",
              "        const buttonEl =\n",
              "          document.querySelector('#df-0ee567a7-2e0a-4916-b31a-cc77dddd9e03 button.colab-df-convert');\n",
              "        buttonEl.style.display =\n",
              "          google.colab.kernel.accessAllowed ? 'block' : 'none';\n",
              "\n",
              "        async function convertToInteractive(key) {\n",
              "          const element = document.querySelector('#df-0ee567a7-2e0a-4916-b31a-cc77dddd9e03');\n",
              "          const dataTable =\n",
              "            await google.colab.kernel.invokeFunction('convertToInteractive',\n",
              "                                                     [key], {});\n",
              "          if (!dataTable) return;\n",
              "\n",
              "          const docLinkHtml = 'Like what you see? Visit the ' +\n",
              "            '<a target=\"_blank\" href=https://colab.research.google.com/notebooks/data_table.ipynb>data table notebook</a>'\n",
              "            + ' to learn more about interactive tables.';\n",
              "          element.innerHTML = '';\n",
              "          dataTable['output_type'] = 'display_data';\n",
              "          await google.colab.output.renderOutput(dataTable, element);\n",
              "          const docLink = document.createElement('div');\n",
              "          docLink.innerHTML = docLinkHtml;\n",
              "          element.appendChild(docLink);\n",
              "        }\n",
              "      </script>\n",
              "    </div>\n",
              "  </div>\n",
              "  "
            ]
          },
          "metadata": {},
          "execution_count": 38
        }
      ],
      "source": [
        "y_pred_test = pd.DataFrame(y_pred_test, columns=['critical_temp'])\n",
        "y_pred_test = y_pred_test.reset_index()\n",
        "y_pred_test"
      ]
    },
    {
      "cell_type": "code",
      "execution_count": null,
      "metadata": {
        "id": "p8cTkhtukzQ3"
      },
      "outputs": [],
      "source": [
        "y_pred_test.to_csv(\"predict.csv\", index=False)"
      ]
    }
  ],
  "metadata": {
    "colab": {
      "collapsed_sections": [],
      "name": "model.ipynb",
      "provenance": []
    },
    "kernelspec": {
      "display_name": "Python 3.10.5 64-bit",
      "language": "python",
      "name": "python3"
    },
    "language_info": {
      "codemirror_mode": {
        "name": "ipython",
        "version": 3
      },
      "file_extension": ".py",
      "mimetype": "text/x-python",
      "name": "python",
      "nbconvert_exporter": "python",
      "pygments_lexer": "ipython3",
      "version": "3.10.5"
    },
    "vscode": {
      "interpreter": {
        "hash": "26de051ba29f2982a8de78e945f0abaf191376122a1563185a90213a26c5da77"
      }
    }
  },
  "nbformat": 4,
  "nbformat_minor": 0
}